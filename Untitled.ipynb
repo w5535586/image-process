{
 "cells": [
  {
   "cell_type": "code",
   "execution_count": null,
   "metadata": {},
   "outputs": [],
   "source": [
    "import numpy as np\n",
    "import cv2\n",
    "import os\n",
    "from PIL import Image\n",
    "from sklearn.model_selection import train_test_split\n",
    "from sklearn.ensemble import GradientBoostingClassifier \n",
    "import pandas as pd\n",
    "from sklearn.svm import SVC\n",
    "from sklearn import preprocessing\n",
    "from sklearn.linear_model import LogisticRegression\n",
    "from sklearn.model_selection import cross_val_score\n",
    "from sklearn.model_selection import KFold\n",
    "from sklearn.decomposition import PCA\n",
    "import lightgbm as lgb"
   ]
  },
  {
   "cell_type": "code",
   "execution_count": null,
   "metadata": {},
   "outputs": [],
   "source": [
    "faceCascade = cv2.CascadeClassifier('haarcascade_frontalcatface_extended.xml')\n",
    "eye_cascade = cv2.CascadeClassifier(\"haarcascade_eye.xml\")"
   ]
  },
  {
   "cell_type": "code",
   "execution_count": null,
   "metadata": {},
   "outputs": [],
   "source": [
    "X=[]\n",
    "y=[]\n",
    "f = open('train.txt',\"r\")\n",
    "for line in iter(f):\n",
    "    X_tmp,y_tmp = [i for i in line.split()]\n",
    "    X.append(X_tmp)\n",
    "    y.append(y_tmp)\n",
    "f.close()"
   ]
  },
  {
   "cell_type": "code",
   "execution_count": null,
   "metadata": {},
   "outputs": [],
   "source": [
    "test = pd.read_csv(\"submission_example.csv\")\n",
    "X_test = np.array(test['Id'])"
   ]
  },
  {
   "cell_type": "code",
   "execution_count": null,
   "metadata": {},
   "outputs": [],
   "source": [
    "def load_img(X,y):    \n",
    "    imgs,lab = [],[]\n",
    "    for i in range(len(X)):\n",
    "        fn = X[i]\n",
    "        im1 = cv2.imread(fn)\n",
    "        im1 = cv2.cvtColor(im1,cv2.COLOR_BGR2GRAY)\n",
    "        faces = faceCascade.detectMultiScale(im1,scaleFactor=1.1,minNeighbors=5,minSize=(100,100))\n",
    "    \n",
    "        if len(faces) >0:\n",
    "            faces = faces[0]\n",
    "            im1 = im1[faces[0]:faces[0]+faces[2], faces[1]:faces[1]+faces[3]]\n",
    "            \n",
    "        im1 = cv2.resize(im1,(100,100))\n",
    "        faceNp = np.array(im1)\n",
    "        faceNp = faceNp.flatten()\n",
    "        imgs.append(faceNp)\n",
    "        lab.append(y[i])\n",
    "    return imgs,lab           "
   ]
  },
  {
   "cell_type": "code",
   "execution_count": null,
   "metadata": {},
   "outputs": [],
   "source": [
    "def load_img1(X):    \n",
    "    imgs,lab = [],[]\n",
    "    for i in range(len(X)):\n",
    "        fn = X[i]\n",
    "        im1 = cv2.imread(fn)\n",
    "        im1 = cv2.cvtColor(im1,cv2.COLOR_BGR2GRAY)\n",
    "        faces = faceCascade.detectMultiScale(im1,scaleFactor=1.1,minNeighbors=5,minSize=(100,100))\n",
    "    \n",
    "        if len(faces) >0:\n",
    "            faces = faces[0]\n",
    "            im1 = im1[faces[0]:faces[0]+faces[2], faces[1]:faces[1]+faces[3]]\n",
    "            \n",
    "        im1 = cv2.resize(im1,(100,100))\n",
    "        faceNp = np.array(im1)\n",
    "        faceNp = faceNp.flatten()\n",
    "        imgs.append(faceNp)\n",
    "    return imgs           "
   ]
  },
  {
   "cell_type": "code",
   "execution_count": null,
   "metadata": {},
   "outputs": [],
   "source": [
    "x ,y = load_img(X,y)"
   ]
  },
  {
   "cell_type": "code",
   "execution_count": null,
   "metadata": {},
   "outputs": [],
   "source": [
    "x=np.array(x)\n",
    "x.shape"
   ]
  },
  {
   "cell_type": "code",
   "execution_count": null,
   "metadata": {},
   "outputs": [],
   "source": [
    "y=np.array(y)\n",
    "y.shape"
   ]
  },
  {
   "cell_type": "code",
   "execution_count": null,
   "metadata": {},
   "outputs": [],
   "source": [
    "xp = load_img1(X_test)"
   ]
  },
  {
   "cell_type": "code",
   "execution_count": null,
   "metadata": {},
   "outputs": [],
   "source": [
    "x = preprocessing.scale(x)\n",
    "xp = preprocessing.scale(xp)"
   ]
  },
  {
   "cell_type": "code",
   "execution_count": null,
   "metadata": {},
   "outputs": [],
   "source": [
    "stack_model = [svm,lr,xgb,lgb]\n",
    "ntrain = x.shape[0]\n",
    "ntest = xp.shape[0]\n",
    "train_stack = np.zeros(ntrain,4)\n",
    "test_stack = np.zeros(ntest,4)"
   ]
  },
  {
   "cell_type": "code",
   "execution_count": null,
   "metadata": {},
   "outputs": [],
   "source": [
    "kf = kfold.split(X,y)\n",
    "\n",
    "for i,model in enumerate(stack_model):\n",
    "    for j,(train_fold,validate) in enumerate(kf):\n",
    "        X_train,X_validate,label_train,label_validate = train_data[train_fold, :],train_data[validate, :],train_label[train_fold],train_label[validate]\n",
    "        model.fit(X_train,label_train)\n",
    "        train_stack[validate,i] = model.predict(X_validate)\n",
    "        test_stack[:,i] = model.predict(xp)"
   ]
  },
  {
   "cell_type": "code",
   "execution_count": null,
   "metadata": {},
   "outputs": [],
   "source": [
    "final_model = xgb()\n",
    "final_model.fit(train_stack,train_label)"
   ]
  },
  {
   "cell_type": "code",
   "execution_count": null,
   "metadata": {},
   "outputs": [],
   "source": [
    "y_pred = final_model.predict(test_stack)"
   ]
  },
  {
   "cell_type": "code",
   "execution_count": null,
   "metadata": {},
   "outputs": [],
   "source": [
    "#X_train, X_test, y_train, y_test = train_test_split(x, y, test_size=0.15, random_state=0,stratify = y)"
   ]
  },
  {
   "cell_type": "code",
   "execution_count": null,
   "metadata": {
    "scrolled": true
   },
   "outputs": [],
   "source": [
    "#svclassifier = SVC(kernel='linear',probability = False)\n",
    "#svclassifier.fit(X_train, y_train)"
   ]
  },
  {
   "cell_type": "code",
   "execution_count": null,
   "metadata": {},
   "outputs": [],
   "source": [
    "#y_pred = svclassifier.predict(xp)"
   ]
  },
  {
   "cell_type": "code",
   "execution_count": null,
   "metadata": {},
   "outputs": [],
   "source": [
    "#y_pred"
   ]
  },
  {
   "cell_type": "code",
   "execution_count": null,
   "metadata": {},
   "outputs": [],
   "source": [
    "df = pd.DataFrame(data=y_pred)\n",
    "df.to_csv('results3.csv')"
   ]
  },
  {
   "cell_type": "code",
   "execution_count": null,
   "metadata": {},
   "outputs": [],
   "source": []
  }
 ],
 "metadata": {
  "kernelspec": {
   "display_name": "Python 3",
   "language": "python",
   "name": "python3"
  },
  "language_info": {
   "codemirror_mode": {
    "name": "ipython",
    "version": 3
   },
   "file_extension": ".py",
   "mimetype": "text/x-python",
   "name": "python",
   "nbconvert_exporter": "python",
   "pygments_lexer": "ipython3",
   "version": "3.5.6"
  }
 },
 "nbformat": 4,
 "nbformat_minor": 2
}
